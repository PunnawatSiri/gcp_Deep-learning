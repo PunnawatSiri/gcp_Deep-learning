{
 "cells": [
  {
   "cell_type": "code",
   "execution_count": 1,
   "id": "5b2464f8-72d2-491c-800d-73d5186aa227",
   "metadata": {},
   "outputs": [],
   "source": [
    "import torch\n",
    "import torchvision\n",
    "import numpy as np\n",
    "import matplotlib.pyplot as plt\n",
    "import torch.nn as nn\n",
    "import torch.nn.functional as F\n",
    "from torchvision.datasets import CIFAR10\n",
    "from torchvision.transforms import ToTensor\n",
    "from torchvision.utils import make_grid\n",
    "from torch.utils.data.dataloader import DataLoader\n",
    "from torch.utils.data import random_split\n",
    "%matplotlib inline\n",
    "from torchvision import transforms\n",
    "from torchvision.utils import save_image\n",
    "import torch.optim as optim"
   ]
  },
  {
   "cell_type": "code",
   "execution_count": 2,
   "id": "ce8dadbd-b7d1-4b4b-9e2b-fb75b1c58c85",
   "metadata": {},
   "outputs": [
    {
     "name": "stdout",
     "output_type": "stream",
     "text": [
      "Files already downloaded and verified\n"
     ]
    },
    {
     "name": "stderr",
     "output_type": "stream",
     "text": [
      "/opt/conda/lib/python3.7/site-packages/torch/utils/data/dataloader.py:490: UserWarning: This DataLoader will create 4 worker processes in total. Our suggested max number of worker in current system is 2, which is smaller than what this DataLoader is going to create. Please be aware that excessive worker creation might get DataLoader running slow or even freeze, lower the worker number to avoid potential slowness/freeze if necessary.\n",
      "  cpuset_checked))\n"
     ]
    },
    {
     "name": "stdout",
     "output_type": "stream",
     "text": [
      "Files already downloaded and verified\n"
     ]
    }
   ],
   "source": [
    "# Hyper-parameters\n",
    "\n",
    "learning_rate = 0.001\n",
    "\n",
    "transform_train = transforms.Compose([\n",
    "    transforms.RandomHorizontalFlip(),\n",
    "    transforms.RandomAffine(degrees = 0, translate=(0.1, 0.1)),\n",
    "    # transforms.RandomVerticalFlip(),\n",
    "    # transforms.RandomGrayscale(),\n",
    "    # transforms.RandomPerspective(),\n",
    "    transforms.ToTensor()]) #  transforms.Normalize((0.5, 0.5, 0.5), (0.5, 0.5, 0.5))\n",
    "\n",
    "batch_size = 64\n",
    "\n",
    "transform_test = transforms.Compose(\n",
    "    [transforms.ToTensor()]) # transforms.Normalize((0.5, 0.5, 0.5), (0.5, 0.5, 0.5))\n",
    "\n",
    "torch.manual_seed(43)\n",
    "\n",
    "def changelabel(y, p):\n",
    "    if torch.rand(1).item() > p:\n",
    "        return y\n",
    "\n",
    "    newy = torch.randint(0,9,[1]).item()\n",
    "    if newy == y:\n",
    "        newy = 9\n",
    "    return newy\n",
    "target_transform = transforms.Lambda(lambda y : changelabel(y,0.5))\n",
    "\n",
    "trainset = torchvision.datasets.CIFAR10(root='./data', train=True,\n",
    "                                        download=True, transform=transform_train, target_transform=target_transform)\n",
    "train_dl = torch.utils.data.DataLoader(trainset, batch_size=batch_size,\n",
    "                                            shuffle=True, num_workers=4,\n",
    "                                            prefetch_factor = 2, \n",
    "                                            pin_memory = True)\n",
    "\n",
    "testset = torchvision.datasets.CIFAR10(root='./data', train=False,\n",
    "                                       download=True, transform=transform_test)\n",
    "test_dl = torch.utils.data.DataLoader(testset, batch_size=batch_size,\n",
    "                                             shuffle=False, num_workers=4,\n",
    "                                             prefetch_factor = 2, \n",
    "                                            pin_memory = True)\n",
    "\n",
    "val_dl = test_dl"
   ]
  },
  {
   "cell_type": "code",
   "execution_count": 3,
   "id": "74d15115-cde4-49d7-ab21-e7eb293a7384",
   "metadata": {},
   "outputs": [],
   "source": [
    "class BasicBlock(nn.Module):\n",
    "    expansion = 1\n",
    "\n",
    "    def __init__(self, in_planes, planes, stride=1):\n",
    "        super(BasicBlock, self).__init__()\n",
    "        self.conv1 = nn.Conv2d(\n",
    "            in_planes, planes, kernel_size=3, stride=stride, padding=1, bias=False)\n",
    "        self.bn1 = nn.BatchNorm2d(planes)\n",
    "        self.conv2 = nn.Conv2d(planes, planes, kernel_size=3,\n",
    "                               stride=1, padding=1, bias=False)\n",
    "        self.bn2 = nn.BatchNorm2d(planes)\n",
    "\n",
    "        self.shortcut = nn.Sequential()\n",
    "        if stride != 1 or in_planes != self.expansion*planes:\n",
    "            self.shortcut = nn.Sequential(\n",
    "                nn.Conv2d(in_planes, self.expansion*planes,\n",
    "                          kernel_size=1, stride=stride, bias=False),\n",
    "                nn.BatchNorm2d(self.expansion*planes)\n",
    "            )\n",
    "\n",
    "    def forward(self, x):\n",
    "        out = F.relu(self.bn1(self.conv1(x)))\n",
    "        out = self.bn2(self.conv2(out))\n",
    "        out += self.shortcut(x)\n",
    "        out = F.relu(out)\n",
    "        return out\n",
    "\n",
    "\n",
    "class Bottleneck(nn.Module):\n",
    "    expansion = 4\n",
    "\n",
    "    def __init__(self, in_planes, planes, stride=1):\n",
    "        super(Bottleneck, self).__init__()\n",
    "        self.conv1 = nn.Conv2d(in_planes, planes, kernel_size=1, bias=False)\n",
    "        self.bn1 = nn.BatchNorm2d(planes)\n",
    "        self.conv2 = nn.Conv2d(planes, planes, kernel_size=3,\n",
    "                               stride=stride, padding=1, bias=False)\n",
    "        self.bn2 = nn.BatchNorm2d(planes)\n",
    "        self.conv3 = nn.Conv2d(planes, self.expansion *\n",
    "                               planes, kernel_size=1, bias=False)\n",
    "        self.bn3 = nn.BatchNorm2d(self.expansion*planes)\n",
    "\n",
    "        self.shortcut = nn.Sequential()\n",
    "        if stride != 1 or in_planes != self.expansion*planes:\n",
    "            self.shortcut = nn.Sequential(\n",
    "                nn.Conv2d(in_planes, self.expansion*planes,\n",
    "                          kernel_size=1, stride=stride, bias=False),\n",
    "                nn.BatchNorm2d(self.expansion*planes)\n",
    "            )\n",
    "\n",
    "    def forward(self, x):\n",
    "        out = F.relu(self.bn1(self.conv1(x)))\n",
    "        out = F.relu(self.bn2(self.conv2(out)))\n",
    "        out = self.bn3(self.conv3(out))\n",
    "        out += self.shortcut(x)\n",
    "        out = F.relu(out)\n",
    "        return out\n",
    "\n",
    "\n",
    "class ResNet(nn.Module):\n",
    "    def __init__(self, block, num_blocks, num_classes=10):\n",
    "        super(ResNet, self).__init__()\n",
    "        self.in_planes = 64\n",
    "\n",
    "        self.conv1 = nn.Conv2d(3, 64, kernel_size=3,\n",
    "                               stride=1, padding=1, bias=False)\n",
    "        self.bn1 = nn.BatchNorm2d(64)\n",
    "        self.layer1 = self._make_layer(block, 64, num_blocks[0], stride=1)\n",
    "        self.layer2 = self._make_layer(block, 128, num_blocks[1], stride=2)\n",
    "        self.layer3 = self._make_layer(block, 256, num_blocks[2], stride=2)\n",
    "        self.layer4 = self._make_layer(block, 512, num_blocks[3], stride=2)\n",
    "        self.linear = nn.Linear(512*block.expansion, num_classes)\n",
    "\n",
    "    def _make_layer(self, block, planes, num_blocks, stride):\n",
    "        strides = [stride] + [1]*(num_blocks-1)\n",
    "        layers = []\n",
    "        for stride in strides:\n",
    "            layers.append(block(self.in_planes, planes, stride))\n",
    "            self.in_planes = planes * block.expansion\n",
    "        return nn.Sequential(*layers)\n",
    "\n",
    "    def forward(self, x):\n",
    "        out = F.relu(self.bn1(self.conv1(x)))\n",
    "        out = self.layer1(out)\n",
    "        out = self.layer2(out)\n",
    "        out = self.layer3(out)\n",
    "        out = self.layer4(out)\n",
    "        out = F.avg_pool2d(out, 4)\n",
    "        out = out.view(out.size(0), -1)\n",
    "        out = self.linear(out)\n",
    "        return out\n",
    "\n",
    "\n",
    "def ResNet18():\n",
    "    return ResNet(BasicBlock, [2, 2, 2, 2])\n",
    "\n",
    "\n",
    "def ResNet34():\n",
    "    return ResNet(BasicBlock, [3, 4, 6, 3])\n",
    "\n",
    "\n",
    "def ResNet50():\n",
    "    return ResNet(Bottleneck, [3, 4, 6, 3])\n",
    "\n",
    "\n",
    "def ResNet101():\n",
    "    return ResNet(Bottleneck, [3, 4, 23, 3])\n",
    "\n",
    "\n",
    "def ResNet152():\n",
    "    return ResNet(Bottleneck, [3, 8, 36, 3])"
   ]
  },
  {
   "cell_type": "code",
   "execution_count": 4,
   "id": "577ed534-bc59-417d-a0d7-6dda76075a67",
   "metadata": {},
   "outputs": [
    {
     "name": "stdout",
     "output_type": "stream",
     "text": [
      "cuda\n"
     ]
    }
   ],
   "source": [
    "is_cuda=torch.cuda.is_available()\n",
    "device=torch.device(\"cuda\" if is_cuda else \"cpu\")\n",
    "print(device)\n",
    "model = ResNet34().to(device)"
   ]
  },
  {
   "cell_type": "code",
   "execution_count": 5,
   "id": "58712cfa-e6bf-4c18-a41d-303c1bef1a28",
   "metadata": {},
   "outputs": [],
   "source": [
    "from torch import Tensor\n",
    "def sce(pred, labels, alpha, beta, num_classes, device):\n",
    "    cross_entropy = torch.nn.CrossEntropyLoss()\n",
    "    # CCE\n",
    "    ce = cross_entropy(pred, labels)\n",
    "\n",
    "    # RCE\n",
    "    pred = F.softmax(pred, dim=1)\n",
    "    pred = torch.clamp(pred, min=1e-7, max=1.0)\n",
    "    label_one_hot = torch.nn.functional.one_hot(labels, num_classes).float().to(device)\n",
    "    label_one_hot = torch.clamp(label_one_hot, min=1e-4, max=1.0)\n",
    "    rce = (-1*torch.sum(pred * torch.log(label_one_hot), dim=1))\n",
    "\n",
    "    # Loss\n",
    "    loss = alpha * ce + beta * rce.mean()\n",
    "    return loss\n",
    "class SCELoss(torch.nn.Module):\n",
    "    def __init__(self, alpha, beta, num_classes=10):\n",
    "        super(SCELoss, self).__init__()\n",
    "        self.device = 'cuda' if torch.cuda.is_available() else 'cpu'\n",
    "        self.alpha = alpha\n",
    "        self.beta = beta\n",
    "        self.num_classes = num_classes\n",
    "        self.cross_entropy = torch.nn.CrossEntropyLoss()\n",
    "\n",
    "    def forward(self, pred, labels) -> Tensor:\n",
    "        return sce(pred, labels, self.alpha, self.beta, self.num_classes, self.device)\n"
   ]
  },
  {
   "cell_type": "code",
   "execution_count": 6,
   "id": "8db17e97-7e7f-40c5-ab92-9d9df588a127",
   "metadata": {},
   "outputs": [],
   "source": [
    "# Loss and optimizer\n",
    "criterion = nn.CrossEntropyLoss()\n",
    "# criterion = SCELoss(0.1, 1)\n",
    "optimizer = torch.optim.Adam(model.parameters(),weight_decay=1e-5, lr=learning_rate)\n",
    "\n",
    "# For updating learning rate\n",
    "def update_lr(optimizer, lr):    \n",
    "    for param_group in optimizer.param_groups:\n",
    "        param_group['lr'] = lr\n",
    "\n",
    "curr_lr = learning_rate"
   ]
  },
  {
   "cell_type": "code",
   "execution_count": 7,
   "id": "96184bbd-97ac-4c64-a767-cd6bfe1f0c2f",
   "metadata": {},
   "outputs": [
    {
     "name": "stdout",
     "output_type": "stream",
     "text": [
      "In epoch 1: Training Loss 2.279 and Training Accuracy 17.20\n",
      "Got 2721 / 10000 with Validation accuracy 27.21\n",
      "In epoch 2: Training Loss 2.217 and Training Accuracy 20.48\n",
      "Got 3882 / 10000 with Validation accuracy 38.82\n",
      "In epoch 3: Training Loss 2.180 and Training Accuracy 23.44\n",
      "Got 4232 / 10000 with Validation accuracy 42.32\n",
      "In epoch 4: Training Loss 2.148 and Training Accuracy 25.76\n",
      "Got 4751 / 10000 with Validation accuracy 47.51\n",
      "In epoch 5: Training Loss 2.124 and Training Accuracy 27.85\n",
      "Got 4689 / 10000 with Validation accuracy 46.89\n",
      "In epoch 6: Training Loss 2.107 and Training Accuracy 29.21\n",
      "Got 5505 / 10000 with Validation accuracy 55.05\n",
      "In epoch 7: Training Loss 2.093 and Training Accuracy 30.66\n",
      "Got 5807 / 10000 with Validation accuracy 58.07\n",
      "In epoch 8: Training Loss 2.078 and Training Accuracy 31.50\n",
      "Got 5899 / 10000 with Validation accuracy 58.99\n",
      "In epoch 9: Training Loss 2.060 and Training Accuracy 32.53\n",
      "Got 6054 / 10000 with Validation accuracy 60.54\n",
      "In epoch 10: Training Loss 2.048 and Training Accuracy 33.49\n",
      "Got 6386 / 10000 with Validation accuracy 63.86\n",
      "In epoch 11: Training Loss 2.010 and Training Accuracy 35.81\n",
      "Got 7027 / 10000 with Validation accuracy 70.27\n",
      "In epoch 12: Training Loss 1.994 and Training Accuracy 37.02\n",
      "Got 7075 / 10000 with Validation accuracy 70.75\n",
      "In epoch 13: Training Loss 1.993 and Training Accuracy 37.15\n",
      "Got 7299 / 10000 with Validation accuracy 72.99\n",
      "In epoch 14: Training Loss 1.980 and Training Accuracy 38.04\n",
      "Got 7356 / 10000 with Validation accuracy 73.56\n",
      "In epoch 15: Training Loss 1.970 and Training Accuracy 38.69\n",
      "Got 7561 / 10000 with Validation accuracy 75.61\n",
      "In epoch 16: Training Loss 1.962 and Training Accuracy 39.13\n",
      "Got 7619 / 10000 with Validation accuracy 76.19\n",
      "In epoch 17: Training Loss 1.956 and Training Accuracy 39.62\n",
      "Got 7802 / 10000 with Validation accuracy 78.02\n",
      "In epoch 18: Training Loss 1.948 and Training Accuracy 40.15\n",
      "Got 7808 / 10000 with Validation accuracy 78.08\n",
      "In epoch 19: Training Loss 1.949 and Training Accuracy 40.04\n",
      "Got 7849 / 10000 with Validation accuracy 78.49\n",
      "In epoch 20: Training Loss 1.944 and Training Accuracy 40.64\n",
      "Got 7894 / 10000 with Validation accuracy 78.94\n"
     ]
    }
   ],
   "source": [
    "loss_store_train =[]\n",
    "loss_store_val = []\n",
    "val_acc_store=[]\n",
    "train_acc_store=[]\n",
    "epoches=20\n",
    "xaxis=np.arange(0.0,epoches)\n",
    "for epoch in range(epoches): #I decided to train the model for 50 epochs\n",
    "    train_loss = 0\n",
    "    train_correct = 0\n",
    "    train_samples = 0\n",
    "    predictions = 0\n",
    "    model.train()\n",
    "    for _, (data, targets) in enumerate(train_dl):\n",
    "        data = data.to(device=device)\n",
    "        targets = targets.to(device=device)\n",
    "        ## Forward Pass\n",
    "        optimizer.zero_grad()\n",
    "        score = model(data)\n",
    "        _, predictions = score.max(1)\n",
    "        loss = criterion(score,targets)\n",
    "        loss.backward()\n",
    "        optimizer.step()\n",
    "        #scheduler.step()\n",
    "        train_loss += loss.item()\n",
    "        train_correct += (predictions == targets).sum()\n",
    "        train_samples += predictions.size(0)\n",
    "    print(f\"In epoch {epoch+1}: Training Loss {train_loss/len(train_dl):.3f} and Training Accuracy {float(train_correct) / float(train_samples) * 100:.2f}\")\n",
    "    loss_store_train.append(train_loss/len(train_dl))\n",
    "    train_acc_store.append(float(train_correct) / float(train_samples) * 100)\n",
    "    \n",
    "    \n",
    "    # Decay learning rate\n",
    "    if (epoch+1) % 10 == 0:\n",
    "        curr_lr /= 3\n",
    "        update_lr(optimizer, curr_lr)\n",
    "    \n",
    "    model.eval()\n",
    "    valid_loss = 0\n",
    "    num_correct = 0\n",
    "    num_samples = 0\n",
    "    predictions = 0\n",
    "    with torch.no_grad():\n",
    "        num_correct = 0\n",
    "        num_samples = 0\n",
    "        for _, (data,targets) in enumerate(val_dl):\n",
    "            data = data.to(device=device)\n",
    "            targets = targets.to(device=device)\n",
    "            ## Forward Pass\n",
    "            score = model(data)\n",
    "            _, predictions = score.max(1)\n",
    "            loss2 = criterion(score,targets)\n",
    "            valid_loss += loss2.item()\n",
    "            \n",
    "            num_correct += (predictions == targets).sum()\n",
    "            num_samples += predictions.size(0)\n",
    "        print(\n",
    "            f\"Got {num_correct} / {num_samples} with Validation accuracy {float(num_correct) / float(num_samples) * 100:.2f}\"\n",
    "        )\n",
    "        val_acc_store.append(float(num_correct) / float(num_samples) * 100)\n",
    "    loss_store_val.append(valid_loss/len(test_dl))"
   ]
  },
  {
   "cell_type": "code",
   "execution_count": 8,
   "id": "a5ee98f5-5ec3-4463-a466-ceef407364ec",
   "metadata": {},
   "outputs": [
    {
     "data": {
      "text/plain": [
       "Text(0, 0.5, 'Accuracy')"
      ]
     },
     "execution_count": 8,
     "metadata": {},
     "output_type": "execute_result"
    },
    {
     "data": {
      "image/png": "[encoded data removed]",
      "text/plain": [
       "<Figure size 432x288 with 1 Axes>"
      ]
     },
     "metadata": {
      "needs_background": "light"
     },
     "output_type": "display_data"
    },
    {
     "data": {
      "image/png": "[encoded data removed]",
      "text/plain": [
       "<Figure size 432x288 with 1 Axes>"
      ]
     },
     "metadata": {
      "needs_background": "light"
     },
     "output_type": "display_data"
    }
   ],
   "source": [
    "xi = list(range(epoches))\n",
    "plt.xticks(range(0,epoches,5))\n",
    "plt.figure(1)\n",
    "plt.plot(xi,loss_store_train,label = 'Trainning loss')\n",
    "plt.plot(xi,loss_store_val, label = 'Validation loss') \n",
    "plt.legend() \n",
    "plt.xlabel('Epoch') \n",
    "plt.ylabel('Loss')\n",
    "plt.title('Training loss w.r.t epoch, ResNet34') \n",
    "plt.figure(2)\n",
    "plt.xticks(range(0,epoches,5))\n",
    "plt.plot(xi,train_acc_store, label = 'Training Accuracy')\n",
    "plt.plot(xi,val_acc_store,marker='.', label = 'Validation Accuracy')\n",
    "plt.title('Validation accuracy w.r.t epoch, ResNet34') \n",
    "plt.xlabel('Epoch') \n",
    "plt.ylabel('Accuracy')"
   ]
  },
  {
   "cell_type": "code",
   "execution_count": 9,
   "id": "73c80b4c-8298-474f-9350-eac1a8346eaf",
   "metadata": {},
   "outputs": [],
   "source": [
    "filename = 'Resnet-34_50ce'\n",
    "PATH = './' + filename + '.pth'\n",
    "torch.save(model.state_dict(), PATH)"
   ]
  },
  {
   "cell_type": "code",
   "execution_count": 10,
   "id": "899632ca-e455-4741-8c82-3cb73116413d",
   "metadata": {},
   "outputs": [
    {
     "name": "stderr",
     "output_type": "stream",
     "text": [
      "/opt/conda/lib/python3.7/site-packages/torch/utils/data/dataloader.py:490: UserWarning: This DataLoader will create 4 worker processes in total. Our suggested max number of worker in current system is 2, which is smaller than what this DataLoader is going to create. Please be aware that excessive worker creation might get DataLoader running slow or even freeze, lower the worker number to avoid potential slowness/freeze if necessary.\n",
      "  cpuset_checked))\n"
     ]
    },
    {
     "data": {
      "image/png": "[encoded data removed]",
      "text/plain": [
       "<Figure size 864x504 with 2 Axes>"
      ]
     },
     "metadata": {
      "needs_background": "light"
     },
     "output_type": "display_data"
    }
   ],
   "source": [
    "from sklearn.metrics import confusion_matrix\n",
    "import seaborn as sn\n",
    "import pandas as pd\n",
    "\n",
    "y_pred = []\n",
    "y_true = []\n",
    "model.eval()\n",
    "# iterate over test data\n",
    "for _, (data,targets) in enumerate(val_dl):\n",
    "        data = data.to(device=device)\n",
    "        targets = targets.to(device=device)\n",
    "        score = model(data)\n",
    "        \n",
    "        output = (torch.max(torch.exp(score), 1)[1]).data.cpu().numpy()\n",
    "        y_pred.extend(output) # Save Prediction\n",
    "        \n",
    "        labels = targets.data.cpu().numpy()\n",
    "        y_true.extend(labels) # Save Truth\n",
    "        \n",
    "classes = ('plane', 'car', 'bird', 'cat',\n",
    "           'deer', 'dog', 'frog', 'horse', 'ship', 'truck')\n",
    "# Build confusion matrix\n",
    "cf_matrix = confusion_matrix(y_true, y_pred)\n",
    "df_cm = pd.DataFrame(cf_matrix/np.sum(cf_matrix) *10, index = [i for i in classes],\n",
    "                     columns = [i for i in classes])\n",
    "plt.figure(figsize = (12,7))\n",
    "sn.heatmap(df_cm, annot=True)\n",
    "plt.savefig(filename + '_confmat.png')"
   ]
  },
  {
   "cell_type": "code",
   "execution_count": null,
   "id": "cab5e1b8-b5c9-468d-8963-d3a049d90679",
   "metadata": {},
   "outputs": [],
   "source": [
    "model = model(*args, **kwargs)\n",
    "model.load_state_dict(torch.load(PATH))\n",
    "model.eval()"
   ]
  },
  {
   "cell_type": "code",
   "execution_count": null,
   "id": "7ddb182e-6282-4128-983f-83805883363a",
   "metadata": {},
   "outputs": [],
   "source": [
    "criterion = nn.CrossEntropyLoss()\n",
    "optimizer = torch.optim.Adam(model.parameters(),weight_decay=1e-4, lr=0.01)\n"
   ]
  },
  {
   "cell_type": "code",
   "execution_count": null,
   "id": "f8a66222-2d07-4b39-ab08-2a081b521298",
   "metadata": {},
   "outputs": [
    {
     "ename": "KeyboardInterrupt",
     "evalue": "",
     "output_type": "error",
     "traceback": [
      "\u001b[0;31m---------------------------------------------------------------------------\u001b[0m",
      "\u001b[0;31mKeyboardInterrupt\u001b[0m                         Traceback (most recent call last)",
      "\u001b[0;32m/tmp/ipykernel_21060/4049616184.py\u001b[0m in \u001b[0;36m<module>\u001b[0;34m\u001b[0m\n\u001b[1;32m     12\u001b[0m         \u001b[0mscore\u001b[0m \u001b[0;34m=\u001b[0m \u001b[0mmodel\u001b[0m\u001b[0;34m(\u001b[0m\u001b[0mdata\u001b[0m\u001b[0;34m)\u001b[0m\u001b[0;34m\u001b[0m\u001b[0;34m\u001b[0m\u001b[0m\n\u001b[1;32m     13\u001b[0m         \u001b[0mloss\u001b[0m \u001b[0;34m=\u001b[0m \u001b[0mcriterion\u001b[0m\u001b[0;34m(\u001b[0m\u001b[0mscore\u001b[0m\u001b[0;34m,\u001b[0m\u001b[0mtargets\u001b[0m\u001b[0;34m)\u001b[0m\u001b[0;34m\u001b[0m\u001b[0;34m\u001b[0m\u001b[0m\n\u001b[0;32m---> 14\u001b[0;31m         \u001b[0mloss\u001b[0m\u001b[0;34m.\u001b[0m\u001b[0mbackward\u001b[0m\u001b[0;34m(\u001b[0m\u001b[0;34m)\u001b[0m\u001b[0;34m\u001b[0m\u001b[0;34m\u001b[0m\u001b[0m\n\u001b[0m\u001b[1;32m     15\u001b[0m         \u001b[0moptimizer\u001b[0m\u001b[0;34m.\u001b[0m\u001b[0mstep\u001b[0m\u001b[0;34m(\u001b[0m\u001b[0;34m)\u001b[0m\u001b[0;34m\u001b[0m\u001b[0;34m\u001b[0m\u001b[0m\n\u001b[1;32m     16\u001b[0m         \u001b[0;31m#scheduler.step()\u001b[0m\u001b[0;34m\u001b[0m\u001b[0;34m\u001b[0m\u001b[0;34m\u001b[0m\u001b[0m\n",
      "\u001b[0;32m/opt/conda/lib/python3.7/site-packages/torch/_tensor.py\u001b[0m in \u001b[0;36mbackward\u001b[0;34m(self, gradient, retain_graph, create_graph, inputs)\u001b[0m\n\u001b[1;32m    361\u001b[0m                 \u001b[0mcreate_graph\u001b[0m\u001b[0;34m=\u001b[0m\u001b[0mcreate_graph\u001b[0m\u001b[0;34m,\u001b[0m\u001b[0;34m\u001b[0m\u001b[0;34m\u001b[0m\u001b[0m\n\u001b[1;32m    362\u001b[0m                 inputs=inputs)\n\u001b[0;32m--> 363\u001b[0;31m         \u001b[0mtorch\u001b[0m\u001b[0;34m.\u001b[0m\u001b[0mautograd\u001b[0m\u001b[0;34m.\u001b[0m\u001b[0mbackward\u001b[0m\u001b[0;34m(\u001b[0m\u001b[0mself\u001b[0m\u001b[0;34m,\u001b[0m \u001b[0mgradient\u001b[0m\u001b[0;34m,\u001b[0m \u001b[0mretain_graph\u001b[0m\u001b[0;34m,\u001b[0m \u001b[0mcreate_graph\u001b[0m\u001b[0;34m,\u001b[0m \u001b[0minputs\u001b[0m\u001b[0;34m=\u001b[0m\u001b[0minputs\u001b[0m\u001b[0;34m)\u001b[0m\u001b[0;34m\u001b[0m\u001b[0;34m\u001b[0m\u001b[0m\n\u001b[0m\u001b[1;32m    364\u001b[0m \u001b[0;34m\u001b[0m\u001b[0m\n\u001b[1;32m    365\u001b[0m     \u001b[0;32mdef\u001b[0m \u001b[0mregister_hook\u001b[0m\u001b[0;34m(\u001b[0m\u001b[0mself\u001b[0m\u001b[0;34m,\u001b[0m \u001b[0mhook\u001b[0m\u001b[0;34m)\u001b[0m\u001b[0;34m:\u001b[0m\u001b[0;34m\u001b[0m\u001b[0;34m\u001b[0m\u001b[0m\n",
      "\u001b[0;32m/opt/conda/lib/python3.7/site-packages/torch/autograd/__init__.py\u001b[0m in \u001b[0;36mbackward\u001b[0;34m(tensors, grad_tensors, retain_graph, create_graph, grad_variables, inputs)\u001b[0m\n\u001b[1;32m    173\u001b[0m     Variable._execution_engine.run_backward(  # Calls into the C++ engine to run the backward pass\n\u001b[1;32m    174\u001b[0m         \u001b[0mtensors\u001b[0m\u001b[0;34m,\u001b[0m \u001b[0mgrad_tensors_\u001b[0m\u001b[0;34m,\u001b[0m \u001b[0mretain_graph\u001b[0m\u001b[0;34m,\u001b[0m \u001b[0mcreate_graph\u001b[0m\u001b[0;34m,\u001b[0m \u001b[0minputs\u001b[0m\u001b[0;34m,\u001b[0m\u001b[0;34m\u001b[0m\u001b[0;34m\u001b[0m\u001b[0m\n\u001b[0;32m--> 175\u001b[0;31m         allow_unreachable=True, accumulate_grad=True)  # Calls into the C++ engine to run the backward pass\n\u001b[0m\u001b[1;32m    176\u001b[0m \u001b[0;34m\u001b[0m\u001b[0m\n\u001b[1;32m    177\u001b[0m def grad(\n",
      "\u001b[0;31mKeyboardInterrupt\u001b[0m: "
     ]
    }
   ],
   "source": [
    "epoches=20\n",
    "xaxis=np.arange(0.0,epoches)\n",
    "\n",
    "for epoch in range(epoches): #I decided to train the model for 50 epochs\n",
    "    loss_ep = 0\n",
    "    model.train()\n",
    "    for _, (data, targets) in enumerate(train_dl):\n",
    "        data = data.to(device=device)\n",
    "        targets = targets.to(device=device)\n",
    "        ## Forward Pass\n",
    "        optimizer.zero_grad()\n",
    "        score = model(data)\n",
    "        loss = criterion(score,targets)\n",
    "        loss.backward()\n",
    "        optimizer.step()\n",
    "        #scheduler.step()\n",
    "        loss_ep += loss.item()\n",
    "    print(f\"Loss in epoch {epoch}: {loss_ep/len(train_dl):.3f}\")\n",
    "    loss_store_train1.append(loss_ep/len(train_dl))\n",
    "    \n",
    "    model.eval()\n",
    "    valid_loss = 0\n",
    "    with torch.no_grad():\n",
    "        num_correct = 0\n",
    "        num_samples = 0\n",
    "        for _, (data,targets) in enumerate(val_dl):\n",
    "            data = data.to(device=device)\n",
    "            targets = targets.to(device=device)\n",
    "            ## Forward Pass\n",
    "            score = model(data)\n",
    "            _, predictions = score.max(1)\n",
    "            loss2 = criterion(score,targets)\n",
    "            valid_loss += loss2.item()\n",
    "            \n",
    "            num_correct += (predictions == targets).sum()\n",
    "            num_samples += predictions.size(0)\n",
    "        print(\n",
    "            f\"Got {num_correct} / {num_samples} with accuracy {float(num_correct) / float(num_samples) * 100:.2f}\"\n",
    "        )\n",
    "        acc_store.append(float(num_correct) / float(num_samples) * 100)\n",
    "    loss_store_val.append(valid_loss/len(test_dl))"
   ]
  }
 ],
 "metadata": {
  "environment": {
   "kernel": "python3",
   "name": "pytorch-gpu.1-11.m91",
   "type": "gcloud",
   "uri": "gcr.io/deeplearning-platform-release/pytorch-gpu.1-11:m91"
  },
  "kernelspec": {
   "display_name": "Python 3 (ipykernel)",
   "language": "python",
   "name": "python3"
  },
  "language_info": {
   "codemirror_mode": {
    "name": "ipython",
    "version": 3
   },
   "file_extension": ".py",
   "mimetype": "text/x-python",
   "name": "python",
   "nbconvert_exporter": "python",
   "pygments_lexer": "ipython3",
   "version": "3.7.12"
  }
 },
 "nbformat": 4,
 "nbformat_minor": 5
}
