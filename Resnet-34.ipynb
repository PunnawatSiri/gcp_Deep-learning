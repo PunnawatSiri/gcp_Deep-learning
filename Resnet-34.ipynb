{
 "cells": [
  {
   "cell_type": "code",
   "execution_count": 1,
   "id": "5b2464f8-72d2-491c-800d-73d5186aa227",
   "metadata": {},
   "outputs": [
    {
     "name": "stderr",
     "output_type": "stream",
     "text": [
      "/opt/conda/lib/python3.7/site-packages/tqdm/auto.py:22: TqdmWarning: IProgress not found. Please update jupyter and ipywidgets. See https://ipywidgets.readthedocs.io/en/stable/user_install.html\n",
      "  from .autonotebook import tqdm as notebook_tqdm\n"
     ]
    }
   ],
   "source": [
    "import torch\n",
    "import torchvision\n",
    "import numpy as np\n",
    "import matplotlib.pyplot as plt\n",
    "import torch.nn as nn\n",
    "import torch.nn.functional as F\n",
    "from torchvision.datasets import CIFAR10\n",
    "from torchvision.transforms import ToTensor\n",
    "from torchvision.utils import make_grid\n",
    "from torch.utils.data.dataloader import DataLoader\n",
    "from torch.utils.data import random_split\n",
    "%matplotlib inline\n",
    "from torchvision import transforms\n",
    "from torchvision.utils import save_image\n",
    "import torch.optim as optim"
   ]
  },
  {
   "cell_type": "code",
   "execution_count": 2,
   "id": "ce8dadbd-b7d1-4b4b-9e2b-fb75b1c58c85",
   "metadata": {},
   "outputs": [
    {
     "name": "stdout",
     "output_type": "stream",
     "text": [
      "Files already downloaded and verified\n",
      "Files already downloaded and verified\n"
     ]
    }
   ],
   "source": [
    "# Hyper-parameters\n",
    "\n",
    "learning_rate = 0.001\n",
    "\n",
    "transform_train = transforms.Compose([\n",
    "    transforms.RandomHorizontalFlip(),\n",
    "    transforms.RandomAffine(degrees = 0, translate=(0.1, 0.1)),\n",
    "    # transforms.RandomVerticalFlip(),\n",
    "    # transforms.RandomGrayscale(),\n",
    "    # transforms.RandomPerspective(),\n",
    "    transforms.ToTensor()]) #  transforms.Normalize((0.5, 0.5, 0.5), (0.5, 0.5, 0.5))\n",
    "\n",
    "batch_size = 64\n",
    "\n",
    "transform_test = transforms.Compose(\n",
    "    [transforms.ToTensor()]) # transforms.Normalize((0.5, 0.5, 0.5), (0.5, 0.5, 0.5))\n",
    "\n",
    "torch.manual_seed(43)\n",
    "\n",
    "\n",
    "trainset = torchvision.datasets.CIFAR10(root='./data', train=True,\n",
    "                                        download=True, transform=transform_train)\n",
    "train_dl = torch.utils.data.DataLoader(trainset, batch_size=batch_size,\n",
    "                                            shuffle=True, num_workers=4,\n",
    "                                            prefetch_factor = 2, \n",
    "                                            pin_memory = True)\n",
    "\n",
    "testset = torchvision.datasets.CIFAR10(root='./data', train=False,\n",
    "                                       download=True, transform=transform_test)\n",
    "test_dl = torch.utils.data.DataLoader(testset, batch_size=batch_size,\n",
    "                                             shuffle=False, num_workers=4,\n",
    "                                             prefetch_factor = 2, \n",
    "                                            pin_memory = True)\n",
    "\n",
    "val_dl = test_dl"
   ]
  },
  {
   "cell_type": "code",
   "execution_count": 3,
   "id": "74d15115-cde4-49d7-ab21-e7eb293a7384",
   "metadata": {},
   "outputs": [],
   "source": [
    "class BasicBlock(nn.Module):\n",
    "    expansion = 1\n",
    "\n",
    "    def __init__(self, in_planes, planes, stride=1):\n",
    "        super(BasicBlock, self).__init__()\n",
    "        self.conv1 = nn.Conv2d(\n",
    "            in_planes, planes, kernel_size=3, stride=stride, padding=1, bias=False)\n",
    "        self.bn1 = nn.BatchNorm2d(planes)\n",
    "        self.conv2 = nn.Conv2d(planes, planes, kernel_size=3,\n",
    "                               stride=1, padding=1, bias=False)\n",
    "        self.bn2 = nn.BatchNorm2d(planes)\n",
    "\n",
    "        self.shortcut = nn.Sequential()\n",
    "        if stride != 1 or in_planes != self.expansion*planes:\n",
    "            self.shortcut = nn.Sequential(\n",
    "                nn.Conv2d(in_planes, self.expansion*planes,\n",
    "                          kernel_size=1, stride=stride, bias=False),\n",
    "                nn.BatchNorm2d(self.expansion*planes)\n",
    "            )\n",
    "\n",
    "    def forward(self, x):\n",
    "        out = F.relu(self.bn1(self.conv1(x)))\n",
    "        out = self.bn2(self.conv2(out))\n",
    "        out += self.shortcut(x)\n",
    "        out = F.relu(out)\n",
    "        return out\n",
    "\n",
    "\n",
    "class Bottleneck(nn.Module):\n",
    "    expansion = 4\n",
    "\n",
    "    def __init__(self, in_planes, planes, stride=1):\n",
    "        super(Bottleneck, self).__init__()\n",
    "        self.conv1 = nn.Conv2d(in_planes, planes, kernel_size=1, bias=False)\n",
    "        self.bn1 = nn.BatchNorm2d(planes)\n",
    "        self.conv2 = nn.Conv2d(planes, planes, kernel_size=3,\n",
    "                               stride=stride, padding=1, bias=False)\n",
    "        self.bn2 = nn.BatchNorm2d(planes)\n",
    "        self.conv3 = nn.Conv2d(planes, self.expansion *\n",
    "                               planes, kernel_size=1, bias=False)\n",
    "        self.bn3 = nn.BatchNorm2d(self.expansion*planes)\n",
    "\n",
    "        self.shortcut = nn.Sequential()\n",
    "        if stride != 1 or in_planes != self.expansion*planes:\n",
    "            self.shortcut = nn.Sequential(\n",
    "                nn.Conv2d(in_planes, self.expansion*planes,\n",
    "                          kernel_size=1, stride=stride, bias=False),\n",
    "                nn.BatchNorm2d(self.expansion*planes)\n",
    "            )\n",
    "\n",
    "    def forward(self, x):\n",
    "        out = F.relu(self.bn1(self.conv1(x)))\n",
    "        out = F.relu(self.bn2(self.conv2(out)))\n",
    "        out = self.bn3(self.conv3(out))\n",
    "        out += self.shortcut(x)\n",
    "        out = F.relu(out)\n",
    "        return out\n",
    "\n",
    "\n",
    "class ResNet(nn.Module):\n",
    "    def __init__(self, block, num_blocks, num_classes=10):\n",
    "        super(ResNet, self).__init__()\n",
    "        self.in_planes = 64\n",
    "\n",
    "        self.conv1 = nn.Conv2d(3, 64, kernel_size=3,\n",
    "                               stride=1, padding=1, bias=False)\n",
    "        self.bn1 = nn.BatchNorm2d(64)\n",
    "        self.layer1 = self._make_layer(block, 64, num_blocks[0], stride=1)\n",
    "        self.layer2 = self._make_layer(block, 128, num_blocks[1], stride=2)\n",
    "        self.layer3 = self._make_layer(block, 256, num_blocks[2], stride=2)\n",
    "        self.layer4 = self._make_layer(block, 512, num_blocks[3], stride=2)\n",
    "        self.linear = nn.Linear(512*block.expansion, num_classes)\n",
    "\n",
    "    def _make_layer(self, block, planes, num_blocks, stride):\n",
    "        strides = [stride] + [1]*(num_blocks-1)\n",
    "        layers = []\n",
    "        for stride in strides:\n",
    "            layers.append(block(self.in_planes, planes, stride))\n",
    "            self.in_planes = planes * block.expansion\n",
    "        return nn.Sequential(*layers)\n",
    "\n",
    "    def forward(self, x):\n",
    "        out = F.relu(self.bn1(self.conv1(x)))\n",
    "        out = self.layer1(out)\n",
    "        out = self.layer2(out)\n",
    "        out = self.layer3(out)\n",
    "        out = self.layer4(out)\n",
    "        out = F.avg_pool2d(out, 4)\n",
    "        out = out.view(out.size(0), -1)\n",
    "        out = self.linear(out)\n",
    "        return out\n",
    "\n",
    "\n",
    "def ResNet18():\n",
    "    return ResNet(BasicBlock, [2, 2, 2, 2])\n",
    "\n",
    "\n",
    "def ResNet34():\n",
    "    return ResNet(BasicBlock, [3, 4, 6, 3])\n",
    "\n",
    "\n",
    "def ResNet50():\n",
    "    return ResNet(Bottleneck, [3, 4, 6, 3])\n",
    "\n",
    "\n",
    "def ResNet101():\n",
    "    return ResNet(Bottleneck, [3, 4, 23, 3])\n",
    "\n",
    "\n",
    "def ResNet152():\n",
    "    return ResNet(Bottleneck, [3, 8, 36, 3])"
   ]
  },
  {
   "cell_type": "code",
   "execution_count": 4,
   "id": "577ed534-bc59-417d-a0d7-6dda76075a67",
   "metadata": {},
   "outputs": [
    {
     "name": "stdout",
     "output_type": "stream",
     "text": [
      "cuda\n"
     ]
    }
   ],
   "source": [
    "is_cuda=torch.cuda.is_available()\n",
    "device=torch.device(\"cuda\" if is_cuda else \"cpu\")\n",
    "print(device)\n",
    "model = ResNet34().to(device)"
   ]
  },
  {
   "cell_type": "code",
   "execution_count": 5,
   "id": "8db17e97-7e7f-40c5-ab92-9d9df588a127",
   "metadata": {},
   "outputs": [],
   "source": [
    "# Loss and optimizer\n",
    "criterion = nn.CrossEntropyLoss()\n",
    "optimizer = torch.optim.Adam(model.parameters(),weight_decay=1e-5, lr=learning_rate)\n",
    "\n",
    "# For updating learning rate\n",
    "def update_lr(optimizer, lr):    \n",
    "    for param_group in optimizer.param_groups:\n",
    "        param_group['lr'] = lr\n",
    "\n",
    "curr_lr = learning_rate"
   ]
  },
  {
   "cell_type": "code",
   "execution_count": 6,
   "id": "96184bbd-97ac-4c64-a767-cd6bfe1f0c2f",
   "metadata": {},
   "outputs": [
    {
     "name": "stdout",
     "output_type": "stream",
     "text": [
      "In epoch 1: Training Loss 1.573 and Training Accuracy 41.86\n",
      "Got 5146 / 10000 with Validation accuracy 51.46\n",
      "In epoch 2: Training Loss 1.080 and Training Accuracy 61.22\n",
      "Got 6439 / 10000 with Validation accuracy 64.39\n",
      "In epoch 3: Training Loss 0.839 and Training Accuracy 70.61\n",
      "Got 7361 / 10000 with Validation accuracy 73.61\n",
      "In epoch 4: Training Loss 0.684 and Training Accuracy 76.27\n",
      "Got 7789 / 10000 with Validation accuracy 77.89\n",
      "In epoch 5: Training Loss 0.583 and Training Accuracy 79.95\n",
      "Got 7688 / 10000 with Validation accuracy 76.88\n",
      "In epoch 6: Training Loss 0.514 and Training Accuracy 82.14\n",
      "Got 8238 / 10000 with Validation accuracy 82.38\n",
      "In epoch 7: Training Loss 0.465 and Training Accuracy 84.07\n",
      "Got 8027 / 10000 with Validation accuracy 80.27\n",
      "In epoch 8: Training Loss 0.418 and Training Accuracy 85.52\n",
      "Got 8416 / 10000 with Validation accuracy 84.16\n",
      "In epoch 9: Training Loss 0.386 and Training Accuracy 86.94\n",
      "Got 8703 / 10000 with Validation accuracy 87.03\n",
      "In epoch 10: Training Loss 0.351 and Training Accuracy 87.88\n",
      "Got 8393 / 10000 with Validation accuracy 83.93\n",
      "In epoch 11: Training Loss 0.238 and Training Accuracy 91.84\n",
      "Got 8968 / 10000 with Validation accuracy 89.68\n",
      "In epoch 12: Training Loss 0.211 and Training Accuracy 92.64\n",
      "Got 9042 / 10000 with Validation accuracy 90.42\n",
      "In epoch 13: Training Loss 0.189 and Training Accuracy 93.41\n",
      "Got 9028 / 10000 with Validation accuracy 90.28\n",
      "In epoch 14: Training Loss 0.173 and Training Accuracy 93.94\n",
      "Got 8999 / 10000 with Validation accuracy 89.99\n",
      "In epoch 15: Training Loss 0.161 and Training Accuracy 94.44\n",
      "Got 9082 / 10000 with Validation accuracy 90.82\n",
      "In epoch 16: Training Loss 0.148 and Training Accuracy 94.89\n",
      "Got 9054 / 10000 with Validation accuracy 90.54\n",
      "In epoch 17: Training Loss 0.133 and Training Accuracy 95.33\n",
      "Got 9080 / 10000 with Validation accuracy 90.80\n",
      "In epoch 18: Training Loss 0.126 and Training Accuracy 95.51\n",
      "Got 9009 / 10000 with Validation accuracy 90.09\n",
      "In epoch 19: Training Loss 0.119 and Training Accuracy 95.74\n",
      "Got 9145 / 10000 with Validation accuracy 91.45\n",
      "In epoch 20: Training Loss 0.108 and Training Accuracy 96.14\n",
      "Got 8998 / 10000 with Validation accuracy 89.98\n"
     ]
    }
   ],
   "source": [
    "loss_store_train =[]\n",
    "loss_store_val = []\n",
    "val_acc_store=[]\n",
    "train_acc_store=[]\n",
    "epoches=20\n",
    "xaxis=np.arange(0,epoches)\n",
    "\n",
    "for epoch in range(epoches): #I decided to train the model for 50 epochs\n",
    "    train_loss = 0\n",
    "    train_correct = 0\n",
    "    train_samples = 0\n",
    "    predictions = 0\n",
    "    model.train()\n",
    "    for _, (data, targets) in enumerate(train_dl):\n",
    "        data = data.to(device=device)\n",
    "        targets = targets.to(device=device)\n",
    "        ## Forward Pass\n",
    "        optimizer.zero_grad()\n",
    "        score = model(data)\n",
    "        _, predictions = score.max(1)\n",
    "        loss = criterion(score,targets)\n",
    "        loss.backward()\n",
    "        optimizer.step()\n",
    "        #scheduler.step()\n",
    "        train_loss += loss.item()\n",
    "        train_correct += (predictions == targets).sum()\n",
    "        train_samples += predictions.size(0)\n",
    "    print(f\"In epoch {epoch+1}: Training Loss {train_loss/len(train_dl):.3f} and Training Accuracy {float(train_correct) / float(train_samples) * 100:.2f}\")\n",
    "    loss_store_train.append(train_loss/len(train_dl))\n",
    "    train_acc_store.append(float(train_correct) / float(train_samples) * 100)\n",
    "    \n",
    "    \n",
    "    # Decay learning rate\n",
    "    if (epoch+1) % 10 == 0:\n",
    "        curr_lr /= 3\n",
    "        update_lr(optimizer, curr_lr)\n",
    "    \n",
    "    model.eval()\n",
    "    valid_loss = 0\n",
    "    num_correct = 0\n",
    "    num_samples = 0\n",
    "    predictions = 0\n",
    "    with torch.no_grad():\n",
    "        num_correct = 0\n",
    "        num_samples = 0\n",
    "        for _, (data,targets) in enumerate(val_dl):\n",
    "            data = data.to(device=device)\n",
    "            targets = targets.to(device=device)\n",
    "            ## Forward Pass\n",
    "            score = model(data)\n",
    "            _, predictions = score.max(1)\n",
    "            loss2 = criterion(score,targets)\n",
    "            valid_loss += loss2.item()\n",
    "            \n",
    "            num_correct += (predictions == targets).sum()\n",
    "            num_samples += predictions.size(0)\n",
    "        print(\n",
    "            f\"Got {num_correct} / {num_samples} with Validation accuracy {float(num_correct) / float(num_samples) * 100:.2f}\"\n",
    "        )\n",
    "        val_acc_store.append(float(num_correct) / float(num_samples) * 100)\n",
    "    loss_store_val.append(valid_loss/len(test_dl))"
   ]
  },
  {
   "cell_type": "code",
   "execution_count": 9,
   "id": "a5ee98f5-5ec3-4463-a466-ceef407364ec",
   "metadata": {},
   "outputs": [
    {
     "data": {
      "text/plain": [
       "Text(0, 0.5, 'Accuracy')"
      ]
     },
     "execution_count": 9,
     "metadata": {},
     "output_type": "execute_result"
    },
    {
     "data": {
      "image/png": "[encoded data removed]",
      "text/plain": [
       "<Figure size 432x288 with 1 Axes>"
      ]
     },
     "metadata": {
      "needs_background": "light"
     },
     "output_type": "display_data"
    },
    {
     "data": {
      "image/png": "[encoded data removed]",
      "text/plain": [
       "<Figure size 432x288 with 1 Axes>"
      ]
     },
     "metadata": {
      "needs_background": "light"
     },
     "output_type": "display_data"
    }
   ],
   "source": [
    "plt.figure(1)\n",
    "plt.plot(loss_store_train,label = 'Trainning loss')\n",
    "plt.plot(loss_store_val, label = 'Validation loss') \n",
    "plt.legend() \n",
    "plt.xlabel('Epoch') \n",
    "plt.ylabel('Loss')\n",
    "plt.title('Training loss w.r.t epoch, ResNet34') \n",
    "plt.figure(2)\n",
    "plt.plot(train_acc_store, label = 'Training Accuracy')\n",
    "plt.plot(val_acc_store,marker='.', label = 'Validation Accuracy')\n",
    "plt.title('Validation accuracy w.r.t epoch, ResNet34') \n",
    "plt.xlabel('Epoch') \n",
    "plt.ylabel('Accuracy')"
   ]
  },
  {
   "cell_type": "code",
   "execution_count": null,
   "id": "73c80b4c-8298-474f-9350-eac1a8346eaf",
   "metadata": {},
   "outputs": [],
   "source": [
    "PATH = './resnet_try.pth'\n",
    "torch.save(model.state_dict(), PATH)"
   ]
  },
  {
   "cell_type": "code",
   "execution_count": null,
   "id": "cab5e1b8-b5c9-468d-8963-d3a049d90679",
   "metadata": {},
   "outputs": [],
   "source": [
    "model = model(*args, **kwargs)\n",
    "model.load_state_dict(torch.load(PATH))\n",
    "model.eval()"
   ]
  },
  {
   "cell_type": "code",
   "execution_count": 29,
   "id": "7ddb182e-6282-4128-983f-83805883363a",
   "metadata": {},
   "outputs": [],
   "source": [
    "criterion = nn.CrossEntropyLoss()\n",
    "optimizer = torch.optim.Adam(model.parameters(),weight_decay=1e-4, lr=0.01)\n"
   ]
  },
  {
   "cell_type": "code",
   "execution_count": 30,
   "id": "f8a66222-2d07-4b39-ab08-2a081b521298",
   "metadata": {},
   "outputs": [
    {
     "name": "stdout",
     "output_type": "stream",
     "text": [
      "Loss in epoch 0: 0.948\n",
      "Got 6221 / 10000 with accuracy 62.21\n"
     ]
    },
    {
     "ename": "KeyboardInterrupt",
     "evalue": "",
     "output_type": "error",
     "traceback": [
      "\u001b[0;31m---------------------------------------------------------------------------\u001b[0m",
      "\u001b[0;31mKeyboardInterrupt\u001b[0m                         Traceback (most recent call last)",
      "\u001b[0;32m/tmp/ipykernel_8917/4176438302.py\u001b[0m in \u001b[0;36m<module>\u001b[0;34m\u001b[0m\n\u001b[1;32m     15\u001b[0m         \u001b[0moptimizer\u001b[0m\u001b[0;34m.\u001b[0m\u001b[0mstep\u001b[0m\u001b[0;34m(\u001b[0m\u001b[0;34m)\u001b[0m\u001b[0;34m\u001b[0m\u001b[0;34m\u001b[0m\u001b[0m\n\u001b[1;32m     16\u001b[0m         \u001b[0;31m#scheduler.step()\u001b[0m\u001b[0;34m\u001b[0m\u001b[0;34m\u001b[0m\u001b[0;34m\u001b[0m\u001b[0m\n\u001b[0;32m---> 17\u001b[0;31m         \u001b[0mloss_ep\u001b[0m \u001b[0;34m+=\u001b[0m \u001b[0mloss\u001b[0m\u001b[0;34m.\u001b[0m\u001b[0mitem\u001b[0m\u001b[0;34m(\u001b[0m\u001b[0;34m)\u001b[0m\u001b[0;34m\u001b[0m\u001b[0;34m\u001b[0m\u001b[0m\n\u001b[0m\u001b[1;32m     18\u001b[0m     \u001b[0mprint\u001b[0m\u001b[0;34m(\u001b[0m\u001b[0;34mf\"Loss in epoch {epoch}: {loss_ep/len(train_dl):.3f}\"\u001b[0m\u001b[0;34m)\u001b[0m\u001b[0;34m\u001b[0m\u001b[0;34m\u001b[0m\u001b[0m\n\u001b[1;32m     19\u001b[0m     \u001b[0mloss_store_train1\u001b[0m\u001b[0;34m.\u001b[0m\u001b[0mappend\u001b[0m\u001b[0;34m(\u001b[0m\u001b[0mloss_ep\u001b[0m\u001b[0;34m/\u001b[0m\u001b[0mlen\u001b[0m\u001b[0;34m(\u001b[0m\u001b[0mtrain_dl\u001b[0m\u001b[0;34m)\u001b[0m\u001b[0;34m)\u001b[0m\u001b[0;34m\u001b[0m\u001b[0;34m\u001b[0m\u001b[0m\n",
      "\u001b[0;31mKeyboardInterrupt\u001b[0m: "
     ]
    }
   ],
   "source": [
    "epoches=20\n",
    "xaxis=np.arange(0,epoches)\n",
    "\n",
    "for epoch in range(epoches): #I decided to train the model for 50 epochs\n",
    "    loss_ep = 0\n",
    "    model.train()\n",
    "    for _, (data, targets) in enumerate(train_dl):\n",
    "        data = data.to(device=device)\n",
    "        targets = targets.to(device=device)\n",
    "        ## Forward Pass\n",
    "        optimizer.zero_grad()\n",
    "        score = model(data)\n",
    "        loss = criterion(score,targets)\n",
    "        loss.backward()\n",
    "        optimizer.step()\n",
    "        #scheduler.step()\n",
    "        loss_ep += loss.item()\n",
    "    print(f\"Loss in epoch {epoch}: {loss_ep/len(train_dl):.3f}\")\n",
    "    loss_store_train1.append(loss_ep/len(train_dl))\n",
    "    \n",
    "    model.eval()\n",
    "    valid_loss = 0\n",
    "    with torch.no_grad():\n",
    "        num_correct = 0\n",
    "        num_samples = 0\n",
    "        for _, (data,targets) in enumerate(val_dl):\n",
    "            data = data.to(device=device)\n",
    "            targets = targets.to(device=device)\n",
    "            ## Forward Pass\n",
    "            score = model(data)\n",
    "            _, predictions = score.max(1)\n",
    "            loss2 = criterion(score,targets)\n",
    "            valid_loss += loss2.item()\n",
    "            \n",
    "            num_correct += (predictions == targets).sum()\n",
    "            num_samples += predictions.size(0)\n",
    "        print(\n",
    "            f\"Got {num_correct} / {num_samples} with accuracy {float(num_correct) / float(num_samples) * 100:.2f}\"\n",
    "        )\n",
    "        acc_store.append(float(num_correct) / float(num_samples) * 100)\n",
    "    loss_store_val.append(valid_loss/len(test_dl))"
   ]
  },
  {
   "cell_type": "code",
   "execution_count": null,
   "id": "0770ff09-22cc-44f5-b187-7b8566370bc8",
   "metadata": {},
   "outputs": [],
   "source": []
  }
 ],
 "metadata": {
  "environment": {
   "kernel": "python3",
   "name": "pytorch-gpu.1-11.m92",
   "type": "gcloud",
   "uri": "gcr.io/deeplearning-platform-release/pytorch-gpu.1-11:m92"
  },
  "kernelspec": {
   "display_name": "Python 3",
   "language": "python",
   "name": "python3"
  },
  "language_info": {
   "codemirror_mode": {
    "name": "ipython",
    "version": 3
   },
   "file_extension": ".py",
   "mimetype": "text/x-python",
   "name": "python",
   "nbconvert_exporter": "python",
   "pygments_lexer": "ipython3",
   "version": "3.7.12"
  }
 },
 "nbformat": 4,
 "nbformat_minor": 5
}
