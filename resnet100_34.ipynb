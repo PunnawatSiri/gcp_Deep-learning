{
 "cells": [
  {
   "cell_type": "code",
   "execution_count": 8,
   "id": "1e40e488",
   "metadata": {},
   "outputs": [
    {
     "name": "stdout",
     "output_type": "stream",
     "text": [
      "Files already downloaded and verified\n",
      "Files already downloaded and verified\n"
     ]
    }
   ],
   "source": [
    "<<<<<<< REMOTE CELL DELETED >>>>>>>\n",
    "# Hyper-parameters\n",
    "\n",
    "learning_rate = 0.001\n",
    "\n",
    "transform_train = transforms.Compose([\n",
    "    transforms.RandomHorizontalFlip(),\n",
    "    transforms.RandomAffine(degrees = 0, translate=(0.1, 0.1)),\n",
    "    # transforms.RandomVerticalFlip(),\n",
    "    # transforms.RandomGrayscale(),\n",
    "    # transforms.RandomPerspective(),\n",
    "    transforms.ToTensor()]) #  transforms.Normalize((0.5, 0.5, 0.5), (0.5, 0.5, 0.5))\n",
    "\n",
    "batch_size = 64\n",
    "\n",
    "transform_test = transforms.Compose(\n",
    "    [transforms.ToTensor()]) # transforms.Normalize((0.5, 0.5, 0.5), (0.5, 0.5, 0.5))\n",
    "\n",
    "torch.manual_seed(43)\n",
    "\n",
    "\n",
    "trainset = torchvision.datasets.CIFAR100(root='./data', train=True,\n",
    "                                        download=True, transform=transform_train)\n",
    "train_dl = torch.utils.data.DataLoader(trainset, batch_size=batch_size,\n",
    "                                            shuffle=True, num_workers=2,\n",
    "                                            prefetch_factor = 2, \n",
    "                                            pin_memory = True)\n",
    "\n",
    "testset = torchvision.datasets.CIFAR100(root='./data', train=False,\n",
    "                                       download=True, transform=transform_test)\n",
    "test_dl = torch.utils.data.DataLoader(testset, batch_size=batch_size,\n",
    "                                             shuffle=False, num_workers=2,\n",
    "                                             prefetch_factor = 2, \n",
    "                                            pin_memory = True)\n",
    "\n",
    "val_dl = test_dl"
   ]
  },
  {
   "cell_type": "code",
   "execution_count": 21,
   "id": "ea901989",
   "metadata": {},
   "outputs": [
    {
     "name": "stdout",
     "output_type": "stream",
     "text": [
      "cuda\n"
     ]
    }
   ],
   "source": [
    "<<<<<<< REMOTE CELL DELETED >>>>>>>\n",
    "is_cuda=torch.cuda.is_available()\n",
    "device=torch.device(\"cuda\" if is_cuda else \"cpu\")\n",
    "print(device)\n",
    "model = ResNet34().to(device)\n"
   ]
  },
  {
   "cell_type": "code",
   "execution_count": 23,
   "id": "1893482b",
   "metadata": {},
   "outputs": [],
   "source": [
    "# Loss and optimizer\n",
    "criterion = nn.CrossEntropyLoss()\n",
    "optimizer = torch.optim.SGD(model.parameters(),lr=0.1,momentum=0.9)\n",
    "scheduler=torch.optim.lr_scheduler.OneCycleLR(optimizer, max_lr=0.1, steps_per_epoch=len(train_dl), epochs=60)"
   ]
  },
  {
   "cell_type": "code",
   "execution_count": 24,
   "id": "3e5fd986",
   "metadata": {},
   "outputs": [
    {
     "name": "stdout",
     "output_type": "stream",
     "text": [
      "Loss in epoch 0: 3.856\n",
      "Got 1600 / 10000 with accuracy 16.00\n",
      "Loss in epoch 1: 3.153\n",
      "Got 3014 / 10000 with accuracy 30.14\n",
      "Loss in epoch 2: 2.656\n",
      "Got 3679 / 10000 with accuracy 36.79\n",
      "Loss in epoch 3: 2.266\n",
      "Got 4073 / 10000 with accuracy 40.73\n",
      "Loss in epoch 4: 1.991\n",
      "Got 4814 / 10000 with accuracy 48.14\n",
      "Loss in epoch 5: 1.787\n",
      "Got 5035 / 10000 with accuracy 50.35\n",
      "Loss in epoch 6: 1.613\n",
      "Got 5339 / 10000 with accuracy 53.39\n",
      "Loss in epoch 7: 1.471\n",
      "Got 5658 / 10000 with accuracy 56.58\n",
      "Loss in epoch 8: 1.357\n",
      "Got 5565 / 10000 with accuracy 55.65\n",
      "Loss in epoch 9: 1.248\n",
      "Got 5790 / 10000 with accuracy 57.90\n",
      "Loss in epoch 10: 1.154\n",
      "Got 5968 / 10000 with accuracy 59.68\n",
      "Loss in epoch 11: 1.070\n",
      "Got 6148 / 10000 with accuracy 61.48\n",
      "Loss in epoch 12: 0.986\n",
      "Got 6139 / 10000 with accuracy 61.39\n",
      "Loss in epoch 13: 0.927\n",
      "Got 6235 / 10000 with accuracy 62.35\n",
      "Loss in epoch 14: 0.859\n",
      "Got 6379 / 10000 with accuracy 63.79\n",
      "Loss in epoch 15: 0.792\n",
      "Got 6320 / 10000 with accuracy 63.20\n",
      "Loss in epoch 16: 0.746\n",
      "Got 6478 / 10000 with accuracy 64.78\n",
      "Loss in epoch 17: 0.680\n",
      "Got 6561 / 10000 with accuracy 65.61\n",
      "Loss in epoch 18: 0.626\n",
      "Got 6562 / 10000 with accuracy 65.62\n",
      "Loss in epoch 19: 0.575\n",
      "Got 6560 / 10000 with accuracy 65.60\n",
      "Loss in epoch 20: 0.542\n",
      "Got 6585 / 10000 with accuracy 65.85\n",
      "Loss in epoch 21: 0.492\n",
      "Got 6691 / 10000 with accuracy 66.91\n",
      "Loss in epoch 22: 0.447\n",
      "Got 6632 / 10000 with accuracy 66.32\n",
      "Loss in epoch 23: 0.416\n",
      "Got 6640 / 10000 with accuracy 66.40\n",
      "Loss in epoch 24: 0.376\n",
      "Got 6640 / 10000 with accuracy 66.40\n",
      "Loss in epoch 25: 0.341\n",
      "Got 6735 / 10000 with accuracy 67.35\n",
      "Loss in epoch 26: 0.321\n",
      "Got 6752 / 10000 with accuracy 67.52\n",
      "Loss in epoch 27: 0.293\n",
      "Got 6839 / 10000 with accuracy 68.39\n",
      "Loss in epoch 28: 0.256\n",
      "Got 6839 / 10000 with accuracy 68.39\n",
      "Loss in epoch 29: 0.242\n",
      "Got 6861 / 10000 with accuracy 68.61\n",
      "Loss in epoch 30: 0.219\n",
      "Got 6832 / 10000 with accuracy 68.32\n",
      "Loss in epoch 31: 0.199\n",
      "Got 6788 / 10000 with accuracy 67.88\n",
      "Loss in epoch 32: 0.191\n",
      "Got 6822 / 10000 with accuracy 68.22\n",
      "Loss in epoch 33: 0.183\n",
      "Got 6850 / 10000 with accuracy 68.50\n",
      "Loss in epoch 34: 0.161\n",
      "Got 6826 / 10000 with accuracy 68.26\n",
      "Loss in epoch 35: 0.148\n",
      "Got 6948 / 10000 with accuracy 69.48\n",
      "Loss in epoch 36: 0.130\n",
      "Got 6913 / 10000 with accuracy 69.13\n",
      "Loss in epoch 37: 0.128\n",
      "Got 6844 / 10000 with accuracy 68.44\n",
      "Loss in epoch 38: 0.117\n",
      "Got 6936 / 10000 with accuracy 69.36\n",
      "Loss in epoch 39: 0.113\n",
      "Got 6933 / 10000 with accuracy 69.33\n",
      "Loss in epoch 40: 0.105\n",
      "Got 6955 / 10000 with accuracy 69.55\n",
      "Loss in epoch 41: 0.105\n",
      "Got 6971 / 10000 with accuracy 69.71\n",
      "Loss in epoch 42: 0.089\n",
      "Got 6956 / 10000 with accuracy 69.56\n",
      "Loss in epoch 43: 0.084\n",
      "Got 7046 / 10000 with accuracy 70.46\n",
      "Loss in epoch 44: 0.077\n",
      "Got 6980 / 10000 with accuracy 69.80\n",
      "Loss in epoch 45: 0.079\n",
      "Got 6979 / 10000 with accuracy 69.79\n",
      "Loss in epoch 46: 0.068\n",
      "Got 7018 / 10000 with accuracy 70.18\n",
      "Loss in epoch 47: 0.067\n",
      "Got 7091 / 10000 with accuracy 70.91\n",
      "Loss in epoch 48: 0.069\n",
      "Got 7044 / 10000 with accuracy 70.44\n",
      "Loss in epoch 49: 0.061\n",
      "Got 7051 / 10000 with accuracy 70.51\n",
      "Loss in epoch 50: 0.055\n",
      "Got 7045 / 10000 with accuracy 70.45\n",
      "Loss in epoch 51: 0.050\n",
      "Got 7080 / 10000 with accuracy 70.80\n",
      "Loss in epoch 52: 0.044\n",
      "Got 7077 / 10000 with accuracy 70.77\n",
      "Loss in epoch 53: 0.042\n",
      "Got 7018 / 10000 with accuracy 70.18\n",
      "Loss in epoch 54: 0.045\n",
      "Got 7057 / 10000 with accuracy 70.57\n",
      "Loss in epoch 55: 0.040\n",
      "Got 7059 / 10000 with accuracy 70.59\n",
      "Loss in epoch 56: 0.040\n",
      "Got 7063 / 10000 with accuracy 70.63\n",
      "Loss in epoch 57: 0.041\n",
      "Got 6983 / 10000 with accuracy 69.83\n",
      "Loss in epoch 58: 0.042\n",
      "Got 7046 / 10000 with accuracy 70.46\n",
      "Loss in epoch 59: 0.032\n",
      "Got 7121 / 10000 with accuracy 71.21\n"
     ]
    }
   ],
   "source": [
    "<<<<<<< REMOTE CELL DELETED >>>>>>>\n",
    "oss_store_train =[]\n",
    "loss_store_val = []\n",
    "loss_store_train = []\n",
    "acc_store=[]\n",
    "epoches=60\n",
    "xaxis=np.arange(0,epoches)\n",
    "\n",
    "for epoch in range(epoches): #I decided to train the model for 50 epochs\n",
    "    loss_ep = 0\n",
    "    model.train()\n",
    "    for _, (data, targets) in enumerate(train_dl):\n",
    "        data = data.to(device=device)\n",
    "        targets = targets.to(device=device)\n",
    "        ## Forward Pass\n",
    "        optimizer.zero_grad()\n",
    "        score = model(data)\n",
    "        loss = criterion(score,targets)\n",
    "        loss.backward()\n",
    "        optimizer.step()\n",
    "        loss_ep += loss.item()\n",
    "        \n",
    "    print(f\"Loss in epoch {epoch}: {loss_ep/len(train_dl):.3f}\")\n",
    "    loss_store_train.append(loss_ep/len(train_dl))\n",
    "    \n",
    "    model.eval()\n",
    "    valid_loss = 0\n",
    "    with torch.no_grad():\n",
    "        num_correct = 0\n",
    "        num_samples = 0\n",
    "        for _, (data,targets) in enumerate(val_dl):\n",
    "            data = data.to(device=device)\n",
    "            targets = targets.to(device=device)\n",
    "            ## Forward Pass\n",
    "            score = model(data)\n",
    "            _, predictions = score.max(1)\n",
    "            loss2 = criterion(score,targets)\n",
    "            valid_loss += loss2.item()\n",
    "            \n",
    "            num_correct += (predictions == targets).sum()\n",
    "            num_samples += predictions.size(0)\n",
    "        print(\n",
    "            f\"Got {num_correct} / {num_samples} with accuracy {float(num_correct) / float(num_samples) * 100:.2f}\"\n",
    "        )\n",
    "        acc_store.append(float(num_correct) / float(num_samples) * 100)\n",
    "    loss_store_val.append(valid_loss/len(test_dl))\n",
    "    scheduler.step()"
   ]
  },
  {
   "cell_type": "code",
   "execution_count": 25,
   "id": "19b4afbf",
   "metadata": {},
   "outputs": [],
   "source": [
    "<<<<<<< REMOTE CELL DELETED >>>>>>>\n",
    "PATH = './resnet34_100_new.pth'\n",
    "torch.save(model.state_dict(), PATH)"
   ]
  },
  {
   "cell_type": "code",
   "execution_count": 27,
   "id": "5757fd0f",
   "metadata": {},
   "outputs": [
    {
     "data": {
      "text/plain": [
       "Text(0, 0.5, 'Accuracy')"
      ]
     },
     "execution_count": 27,
     "metadata": {},
     "output_type": "execute_result"
    },
    {
     "data": {
      "image/png": "[encoded data removed]",
      "text/plain": [
       "<Figure size 432x288 with 1 Axes>"
      ]
     },
     "metadata": {
      "needs_background": "light"
     },
     "output_type": "display_data"
    },
    {
     "data": {
      "image/png": "[encoded data removed]",
      "text/plain": [
       "<Figure size 432x288 with 1 Axes>"
      ]
     },
     "metadata": {
      "needs_background": "light"
     },
     "output_type": "display_data"
    }
   ],
   "source": [
    "<<<<<<< REMOTE CELL DELETED >>>>>>>\n",
    "plt.figure(1)\n",
    "plt.plot(loss_store_train,label = 'Trainning loss')\n",
    "plt.plot(loss_store_val, label = 'Validation loss') \n",
    "plt.legend() \n",
    "plt.xlabel('Epoch') \n",
    "plt.ylabel('Loss')\n",
    "plt.title('Training loss w.r.t epoch, ResNet34 on cifar-100') \n",
    "plt.figure(2)\n",
    "plt.plot(acc_store,marker='.')\n",
    "plt.title('Validation accuracy w.r.t epoch, ResNet34 on cifar-100') \n",
    "plt.xlabel('Epoch') \n",
    "plt.ylabel('Accuracy')"
   ]
  }
 ],
 "metadata": {
  "environment": {
   "kernel": "python3",
   "name": "pytorch-gpu.1-11.m92",
   "type": "gcloud",
   "uri": "gcr.io/deeplearning-platform-release/pytorch-gpu.1-11:m92"
  },
  "kernelspec": {
   "display_name": "Python 3",
   "language": "python",
   "name": "python3"
  },
  "language_info": {
   "codemirror_mode": {
    "name": "ipython",
    "version": 3
   },
   "file_extension": ".py",
   "mimetype": "text/x-python",
   "name": "python",
   "nbconvert_exporter": "python",
   "pygments_lexer": "ipython3",
   "version": "3.7.12"
  },
  "nbdime-conflicts": {
   "local_diff": [
    {
     "diff": [
      {
       "diff": [
        {
         "diff": [
          {
           "key": 19,
           "op": "addrange",
           "valuelist": "2"
          },
          {
           "key": 19,
           "length": 1,
           "op": "removerange"
          }
         ],
         "key": 0,
         "op": "patch"
        }
       ],
       "key": "name",
       "op": "patch"
      },
      {
       "diff": [
        {
         "diff": [
          {
           "key": 56,
           "op": "addrange",
           "valuelist": "2"
          },
          {
           "key": 56,
           "length": 1,
           "op": "removerange"
          }
         ],
         "key": 0,
         "op": "patch"
        }
       ],
       "key": "uri",
       "op": "patch"
      }
     ],
     "key": "environment",
     "op": "patch"
    },
    {
     "diff": [
      {
       "diff": [
        {
         "key": 0,
         "op": "addrange",
         "valuelist": [
          "Python 3"
         ]
        },
        {
         "key": 0,
         "length": 1,
         "op": "removerange"
        }
       ],
       "key": "display_name",
       "op": "patch"
      }
     ],
     "key": "kernelspec",
     "op": "patch"
    }
   ],
   "remote_diff": [
    {
     "key": "environment",
     "op": "remove"
    },
    {
     "key": "kernelspec",
     "op": "remove"
    }
   ]
  }
 },
 "nbformat": 4,
 "nbformat_minor": 5
}
